{
 "cells": [
  {
   "cell_type": "code",
   "execution_count": null,
   "id": "d4792aa4-bbd1-44a1-a2d0-c206402eb7ff",
   "metadata": {},
   "outputs": [],
   "source": [
    "import numpy as np\n",
    "from scipy.stats import unitary_group\n",
    "from random import choice\n",
    "import time as tm\n",
    "from itertools import product\n",
    "\n",
    "I = np.array([[1, 0], [0, 1]])\n",
    "\n",
    "X = np.array([[0, 1], [1, 0]])\n",
    "             \n",
    "Y = np.array([[0, -1j], [1j, 0]])\n",
    "             \n",
    "Z = np.array([[1, 0], [0, -1]])\n",
    "\n",
    "H = (1/np.sqrt(2)) * np.array([[1, 1], [1, -1]])\n",
    "\n",
    "S = np.array([[1, 0], [0, 1j]])\n",
    "\n",
    "T = np.array([[1, 0], [0, np.exp(1j*np.pi/4)]])\n",
    "\n",
    "CNOT = np.array([[1,0,0,0], [0,1,0,0], [0,0,0,1], [0,0,1,0]])"
   ]
  },
  {
   "cell_type": "code",
   "execution_count": null,
   "id": "93006780-3d9a-43df-b3c5-1556f4894eaf",
   "metadata": {},
   "outputs": [],
   "source": [
    "def qubit_circuit(n, input_state, gates):\n",
    "    output_state = np.array([0 for i in range(2**n)], dtype = np.complex128) \n",
    "    \n",
    "    for j in input_state.keys():\n",
    "        curr_bin = int(''.join(list(map(str, j))), 2) \n",
    "        output_state[curr_bin] = input_state[j]  \n",
    "    \n",
    "    for i in range(len(gates)):\n",
    "        flag = list(m for m in range(2**n))\n",
    "        U = globals()[gates[i][0]]\n",
    "        target = gates[i][1:]\n",
    "        if len(gates[i]) == 3:    \n",
    "            while len(flag) > 0:\n",
    "                mask1 = 1 << (n - target[0] - 1)\n",
    "                mask2 = 1 << (n - target[1] - 1)\n",
    "                mask3 = mask1 | mask2\n",
    "                not_mask = (2**n - 1) ^ mask3\n",
    "                state1 = not_mask & flag[0]\n",
    "                state2 = mask1 | flag[0]\n",
    "                state3 = mask2 | flag[0]\n",
    "                state4 = mask3 | flag[0]\n",
    "                flag.remove(state1)\n",
    "                flag.remove(state2)\n",
    "                flag.remove(state3)\n",
    "                flag.remove(state4)\n",
    "                output_state[state1], output_state[state2], output_state[state3], output_state[state4] = output_state[state1] * U[0, 0] \\\n",
    "                + output_state[state2] * U[0, 1]+ output_state[state3] * U[0, 2] + output_state[state4] * U[0, 3], output_state[state1] * U[1, 0] \\\n",
    "                + output_state[state2] * U[1, 1] + output_state[state3] * U[1, 2] + output_state[state4] * U[1, 3], output_state[state1] * U[2, 0] \\\n",
    "                + output_state[state2] * U[2, 1] + output_state[state3] * U[2, 2] + output_state[state4] * U[2, 3], output_state[state1] * U[3, 0] \\\n",
    "                + output_state[state2] * U[3, 1] + output_state[state3] * U[3, 2] + output_state[state4] * U[3, 3]\n",
    "        elif len(gates[i]) == 2:\n",
    "            while len(flag) > 0:\n",
    "                mask = 1 << (n - target[0] - 1)\n",
    "                not_mask = (2**n - 1) ^ mask\n",
    "                state1 = not_mask & flag[0]\n",
    "                state2 = mask | flag[0]\n",
    "                flag.remove(state1)\n",
    "                flag.remove(state2)\n",
    "                output_state[state1], output_state[state2] = output_state[state1] * U[0, 0] + output_state[state2] * U[0, 1], output_state[state1] * U[1,0] + output_state[state2] * U[1, 1]            \n",
    "    return output_state  "
   ]
  }
 ],
 "metadata": {
  "kernelspec": {
   "display_name": "Python 3 (ipykernel)",
   "language": "python",
   "name": "python3"
  },
  "language_info": {
   "codemirror_mode": {
    "name": "ipython",
    "version": 3
   },
   "file_extension": ".py",
   "mimetype": "text/x-python",
   "name": "python",
   "nbconvert_exporter": "python",
   "pygments_lexer": "ipython3",
   "version": "3.12.4"
  }
 },
 "nbformat": 4,
 "nbformat_minor": 5
}
