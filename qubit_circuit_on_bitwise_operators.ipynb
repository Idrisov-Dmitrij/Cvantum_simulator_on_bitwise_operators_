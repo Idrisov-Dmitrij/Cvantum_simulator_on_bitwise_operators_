{
 "cells": [
  {
   "cell_type": "code",
   "execution_count": 7,
   "id": "2abff5ca-bf61-4c5a-a160-301ad6158731",
   "metadata": {},
   "outputs": [],
   "source": [
    "import numpy as np\n",
    "from scipy.stats import unitary_group\n",
    "\n",
    "I = np.array([[1, 0], [0, 1]])\n",
    "\n",
    "X = np.array([[0, 1], [1, 0]])\n",
    "             \n",
    "Y = np.array([[0, -1j], [1j, 0]])\n",
    "             \n",
    "Z = np.array([[1, 0], [0, -1]])\n",
    "\n",
    "H = (1/np.sqrt(2)) * np.array([[1, 1], [1, -1]])\n",
    "\n",
    "S = np.array([[1, 0], [0, 1j]])\n",
    "\n",
    "T = np.array([[1, 0], [0, np.exp(1j*np.pi/4)]])\n",
    "\n",
    "CNOT = np.array([[1,0,0,0], [0,1,0,0], [0,0,0,1], [0,0,1,0]])"
   ]
  },
  {
   "cell_type": "code",
   "execution_count": 70,
   "id": "c85ee11e-e3fe-4243-ba18-2a4ed4b69967",
   "metadata": {},
   "outputs": [],
   "source": [
    "def n_qubit_circuit(n, input_state, gates):\n",
    "    output_state = np.array([0 for i in range(2**n)], dtype = np.complex128) # FIXED\n",
    "    \n",
    "    for j in input_state.keys():\n",
    "        curr_bin = int(''.join(list(map(str, j))), 2) #FIXED\n",
    "        output_state[curr_bin] = input_state[j]  #FIXED\n",
    "    \n",
    "    for i in range(len(gates)):\n",
    "        flag = list(n for n in range(2**n))\n",
    "        U = gates[i][0] # FIXED\n",
    "        target = gates[i][1]\n",
    "        while len(flag) > 0:\n",
    "            mask = 1 << (n - target - 1)\n",
    "            not_mask = (2**n - 1) ^ mask\n",
    "            state1 = not_mask & flag[0]\n",
    "            state2 = mask | flag[0]\n",
    "            flag.remove(state1)\n",
    "            flag.remove(state2)\n",
    "            output_state[state1], output_state[state2] = output_state[state1] * U[0, 0] + output_state[state2] * U[0, 1], output_state[state1] * U[1,0] + output_state[state2] * U[1, 1]\n",
    "            \n",
    "    return output_state "
   ]
  },
  {
   "cell_type": "code",
   "execution_count": 71,
   "id": "a38c97d7-b40b-47f4-9b65-a48324efe43b",
   "metadata": {},
   "outputs": [
    {
     "name": "stdout",
     "output_type": "stream",
     "text": [
      "[-0.09094983-0.47344717j -0.0691966 +0.0561723j  -0.01792159-0.3210979j\n",
      "  0.41489255-0.14304753j  0.29055226+0.31246478j -0.04009308-0.01875067j\n",
      " -0.34353134+0.3377606j   0.15381223+0.15440478j]\n"
     ]
    }
   ],
   "source": [
    "n = 3\n",
    "input_state = {(0,0,0) : 0.5, (0,1,0) : 0.5, (1,0,1) : 0.5, (1,1,0) : 0.5}\n",
    "\n",
    "gates = [[U1, 0], [U2, 1], [U3, 0]]\n",
    "print(n_qubit_circuit(n, input_state, gates))"
   ]
  },
  {
   "cell_type": "code",
   "execution_count": 63,
   "id": "cd2ead10-096a-4fc2-aa50-a4d8f8778ce2",
   "metadata": {},
   "outputs": [],
   "source": [
    "# генерация случайных унитарных матриц для проверки работы кода\n",
    "U1 = unitary_group.rvs(2)\n",
    "U2 = unitary_group.rvs(2)\n",
    "U3 = unitary_group.rvs(2)"
   ]
  },
  {
   "cell_type": "code",
   "execution_count": 64,
   "id": "4abb5444-c298-4b0b-89aa-8de92ee6d885",
   "metadata": {},
   "outputs": [
    {
     "data": {
      "text/plain": [
       "array([[-0.133756  -0.31497357j,  0.65875781-0.6700292j ],\n",
       "       [-0.83399631-0.43284077j, -0.02953899+0.34092003j]])"
      ]
     },
     "execution_count": 64,
     "metadata": {},
     "output_type": "execute_result"
    }
   ],
   "source": [
    "U1"
   ]
  },
  {
   "cell_type": "code",
   "execution_count": 65,
   "id": "00cc7b30-c69a-48cd-aae4-689aaa4e0abd",
   "metadata": {},
   "outputs": [
    {
     "data": {
      "text/plain": [
       "array([[ 0.19696912-0.02851888j, -0.66338078+0.72132918j],\n",
       "       [-0.95925998-0.20052465j, -0.17677445+0.09143826j]])"
      ]
     },
     "execution_count": 65,
     "metadata": {},
     "output_type": "execute_result"
    }
   ],
   "source": [
    "U2"
   ]
  },
  {
   "cell_type": "code",
   "execution_count": 66,
   "id": "928ae462-70e0-46c9-bf94-116065b84fc5",
   "metadata": {},
   "outputs": [
    {
     "data": {
      "text/plain": [
       "array([[-0.96621977-0.22010785j, -0.13006907-0.03246434j],\n",
       "       [ 0.03928988-0.12817254j, -0.30990139+0.94127001j]])"
      ]
     },
     "execution_count": 66,
     "metadata": {},
     "output_type": "execute_result"
    }
   ],
   "source": [
    "U3"
   ]
  },
  {
   "cell_type": "code",
   "execution_count": null,
   "id": "4dacbc23-3a1f-4fb0-8f79-9181f057b3d2",
   "metadata": {},
   "outputs": [],
   "source": []
  }
 ],
 "metadata": {
  "kernelspec": {
   "display_name": "Python 3 (ipykernel)",
   "language": "python",
   "name": "python3"
  },
  "language_info": {
   "codemirror_mode": {
    "name": "ipython",
    "version": 3
   },
   "file_extension": ".py",
   "mimetype": "text/x-python",
   "name": "python",
   "nbconvert_exporter": "python",
   "pygments_lexer": "ipython3",
   "version": "3.12.4"
  }
 },
 "nbformat": 4,
 "nbformat_minor": 5
}
